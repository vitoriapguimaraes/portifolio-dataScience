{
 "cells": [
  {
   "cell_type": "markdown",
   "id": "196335f7-0831-4868-bea5-8dc62b6a46ca",
   "metadata": {},
   "source": [
    "# Predição Salarial com Machine Learning Baseada em Horas de Estudo\n",
    "\n",
    "Problema de Negócio:\n",
    "Usando dados históricos é possível prever o salário de alguém com base no tempo dedicado aos estudos em horas por mês?"
   ]
  },
  {
   "cell_type": "code",
   "execution_count": null,
   "id": "7514ef00-ff33-42e5-bc20-b82714d1bb10",
   "metadata": {},
   "outputs": [],
   "source": []
  }
 ],
 "metadata": {
  "kernelspec": {
   "display_name": "Python 3 (ipykernel)",
   "language": "python",
   "name": "python3"
  },
  "language_info": {
   "codemirror_mode": {
    "name": "ipython",
    "version": 3
   },
   "file_extension": ".py",
   "mimetype": "text/x-python",
   "name": "python",
   "nbconvert_exporter": "python",
   "pygments_lexer": "ipython3",
   "version": "3.10.11"
  }
 },
 "nbformat": 4,
 "nbformat_minor": 5
}
